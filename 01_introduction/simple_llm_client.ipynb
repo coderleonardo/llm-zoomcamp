{
 "cells": [
  {
   "cell_type": "code",
   "execution_count": 1,
   "metadata": {},
   "outputs": [],
   "source": [
    "# ollama pull llama3.2"
   ]
  },
  {
   "cell_type": "code",
   "execution_count": 2,
   "metadata": {},
   "outputs": [],
   "source": [
    "from ollama import chat\n",
    "from ollama import ChatResponse"
   ]
  },
  {
   "cell_type": "code",
   "execution_count": 3,
   "metadata": {},
   "outputs": [],
   "source": [
    "response: ChatResponse = chat(model='llama3.2', messages=[\n",
    "  {\n",
    "    'role': 'user',\n",
    "    'content': 'Why is the sky blue?',\n",
    "  },\n",
    "])"
   ]
  },
  {
   "cell_type": "code",
   "execution_count": 4,
   "metadata": {},
   "outputs": [
    {
     "name": "stdout",
     "output_type": "stream",
     "text": [
      "The sky appears blue because of a phenomenon called Rayleigh scattering, named after the British physicist Lord Rayleigh. He discovered that shorter (blue) wavelengths of light are scattered more than longer (red) wavelengths by tiny molecules in the Earth's atmosphere.\n",
      "\n",
      "Here's what happens:\n",
      "\n",
      "1. Sunlight enters the Earth's atmosphere and encounters tiny molecules like nitrogen (N2) and oxygen (O2).\n",
      "2. These molecules scatter the sunlight, but they scatter shorter wavelengths (like blue and violet) more than longer wavelengths (like red and orange).\n",
      "3. The scattered blue light is then distributed in all directions by the air molecules.\n",
      "4. Our eyes perceive this scattered blue light as the color of the sky.\n",
      "\n",
      "So, why doesn't the sky appear violet? That's because our eyes are more sensitive to blue light than violet light. Also, the atmosphere scatters a bit less violet light than blue light, so it doesn't reach our eyes as strongly.\n",
      "\n",
      "Other factors can affect the apparent color of the sky, such as:\n",
      "\n",
      "* Atmospheric conditions: Dust, pollution, and water vapor in the air can scatter light in different ways.\n",
      "* Time of day: The sun's position in the sky changes throughout the day, affecting the amount of direct sunlight that reaches us.\n",
      "* Altitude: At higher elevations, the atmosphere is thinner, and less light is scattered, resulting in a more pale blue or even clear sky.\n",
      "\n",
      "In summary, the sky appears blue because shorter wavelengths (like blue) are scattered by tiny molecules in the Earth's atmosphere, while longer wavelengths (like red) pass through with less scattering.\n"
     ]
    }
   ],
   "source": [
    "print(response.message.content)"
   ]
  }
 ],
 "metadata": {
  "kernelspec": {
   "display_name": "llm_env",
   "language": "python",
   "name": "python3"
  },
  "language_info": {
   "codemirror_mode": {
    "name": "ipython",
    "version": 3
   },
   "file_extension": ".py",
   "mimetype": "text/x-python",
   "name": "python",
   "nbconvert_exporter": "python",
   "pygments_lexer": "ipython3",
   "version": "3.10.17"
  }
 },
 "nbformat": 4,
 "nbformat_minor": 2
}
