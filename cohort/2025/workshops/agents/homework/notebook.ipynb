{
 "cells": [
  {
   "cell_type": "code",
   "execution_count": 1,
   "id": "d2ca3e29",
   "metadata": {},
   "outputs": [],
   "source": [
    "# !pip install ollama"
   ]
  },
  {
   "cell_type": "code",
   "execution_count": 2,
   "id": "ab7e9b2c",
   "metadata": {},
   "outputs": [],
   "source": [
    "import json\n",
    "import random\n",
    "import requests\n",
    "\n",
    "import ollama"
   ]
  },
  {
   "cell_type": "code",
   "execution_count": 3,
   "id": "fc9ed061",
   "metadata": {},
   "outputs": [],
   "source": [
    "known_weather_data = {\n",
    "    'berlin': 20.0\n",
    "}\n",
    "\n",
    "def get_weather(city: str) -> float:\n",
    "    city = city.strip().lower()\n",
    "\n",
    "    if city in known_weather_data:\n",
    "        return known_weather_data[city]\n",
    "\n",
    "    return round(random.uniform(-5, 35), 1)"
   ]
  },
  {
   "cell_type": "code",
   "execution_count": 4,
   "id": "d60ead69",
   "metadata": {},
   "outputs": [
    {
     "data": {
      "text/plain": [
       "31.9"
      ]
     },
     "execution_count": 4,
     "metadata": {},
     "output_type": "execute_result"
    }
   ],
   "source": [
    "get_weather(\"sao paulo\")"
   ]
  },
  {
   "cell_type": "code",
   "execution_count": 5,
   "id": "46c634ba",
   "metadata": {},
   "outputs": [],
   "source": [
    "TODO1 = \"get_weather\"\n",
    "TODO2 = \"Get the current weather for a specified city.\"\n",
    "TODO3 = \"city\"\n",
    "TODO4 = \"The name of the city for which we want to get the temperature\"\n",
    "TODO5 = \"city\"\n",
    "\n",
    "get_weather_tool = {\n",
    "    \"type\": \"function\",\n",
    "    \"name\": TODO1,\n",
    "    \"description\": TODO2, \n",
    "    \"parameters\": {\n",
    "        \"type\": \"object\",\n",
    "        \"properties\": {\n",
    "            TODO3: {\n",
    "                \"type\": \"string\",\n",
    "                \"description\": TODO4\n",
    "            }\n",
    "        },\n",
    "        \"required\": [TODO5],\n",
    "        \"additionalProperties\": False\n",
    "    }\n",
    "}"
   ]
  },
  {
   "cell_type": "code",
   "execution_count": 6,
   "id": "2a548500",
   "metadata": {},
   "outputs": [],
   "source": [
    "def set_weather(city: str, temp: float) -> None:\n",
    "    city = city.strip().lower()\n",
    "    known_weather_data[city] = temp\n",
    "    return 'OK'\n",
    "\n",
    "set_weather_tool = {\n",
    "    \"type\": \"function\",\n",
    "    \"name\": \"set_weather\",\n",
    "    \"description\": \"Add or update weather data for a specified city in our database.\",\n",
    "    \"parameters\": {\n",
    "        \"type\": \"object\",\n",
    "        \"properties\": {\n",
    "            \"city\": {\n",
    "                \"type\": \"string\",\n",
    "                \"description\": \"The name of the city for which to set the weather.\"\n",
    "            },\n",
    "            \"temp\": {\n",
    "                \"type\": \"number\", # Recomenda-se \"number\" para floats em JSON Schema\n",
    "                \"description\": \"The temperature value to be associated with the given city.\"\n",
    "            }\n",
    "        },\n",
    "        \"required\": [\"city\", \"temp\"],\n",
    "        \"additionalProperties\": False\n",
    "    }\n",
    "}\n"
   ]
  },
  {
   "cell_type": "code",
   "execution_count": 7,
   "id": "56a5ca61",
   "metadata": {},
   "outputs": [],
   "source": [
    "available_tools = {\n",
    "    \"get_weather\": get_weather,\n",
    "    \"set_weather\": set_weather\n",
    "}"
   ]
  },
  {
   "cell_type": "code",
   "execution_count": 30,
   "id": "c9bc2a39",
   "metadata": {},
   "outputs": [],
   "source": [
    "# query = \"What's the weather in Sao Paulo?\"\n",
    "query = \"add the current weather of sao paulo to our database\"\n",
    "\n",
    "response = ollama.chat(\n",
    "    model=\"llama3.2:3b\",\n",
    "    messages=[\n",
    "        {\"role\": \"system\", \"content\": \"You are a helpful AI assistant specialized in weather information. Use the available tools to answer questions or modify weather data.\"},\n",
    "        {\"role\": \"user\", \"content\": query}\n",
    "    ],\n",
    "    tools=[get_weather_tool, set_weather_tool],\n",
    "    options={\"num_predict\": -1} # Ajuda a garantir que o modelo não pare de gerar antes de decidir a tool_call\n",
    ")\n",
    "\n",
    "message = response[\"message\"]"
   ]
  },
  {
   "cell_type": "code",
   "execution_count": 31,
   "id": "3f49cf4f",
   "metadata": {},
   "outputs": [
    {
     "data": {
      "text/plain": [
       "Message(role='assistant', content='', thinking=None, images=None, tool_calls=[ToolCall(function=Function(name='getWeather', arguments={'city': 'São Paulo'}))])"
      ]
     },
     "execution_count": 31,
     "metadata": {},
     "output_type": "execute_result"
    }
   ],
   "source": [
    "message"
   ]
  },
  {
   "cell_type": "code",
   "execution_count": 32,
   "id": "e78d2848",
   "metadata": {},
   "outputs": [
    {
     "name": "stdout",
     "output_type": "stream",
     "text": [
      "getWeather {'city': 'São Paulo'}\n"
     ]
    }
   ],
   "source": [
    "message_dict = dict(message)\n",
    "\n",
    "if \"tool_calls\" in message_dict.keys() and message_dict[\"tool_calls\"]:\n",
    "    for tool_call in message_dict[\"tool_calls\"]:\n",
    "        tool_name = tool_call[\"function\"][\"name\"]\n",
    "        tool_args = tool_call[\"function\"][\"arguments\"]\n",
    "\n",
    "        print(tool_name, tool_args)"
   ]
  },
  {
   "cell_type": "code",
   "execution_count": 34,
   "id": "5fc8fffe",
   "metadata": {},
   "outputs": [],
   "source": [
    "# !pip install fastmcp # https://github.com/jlowin/fastmcp"
   ]
  },
  {
   "cell_type": "code",
   "execution_count": 35,
   "id": "e886e456",
   "metadata": {},
   "outputs": [],
   "source": [
    "import fastmcp"
   ]
  },
  {
   "cell_type": "code",
   "execution_count": 36,
   "id": "9d87918d",
   "metadata": {},
   "outputs": [
    {
     "data": {
      "text/plain": [
       "'2.11.0'"
      ]
     },
     "execution_count": 36,
     "metadata": {},
     "output_type": "execute_result"
    }
   ],
   "source": [
    "fastmcp.__version__"
   ]
  },
  {
   "cell_type": "code",
   "execution_count": null,
   "id": "64cd387f",
   "metadata": {},
   "outputs": [],
   "source": [
    "# Starting MCP server 'Demo 🚀' with transport 'stdio'\n",
    "\n",
    "# Standart input/output means that the client write something to stdin and \n",
    "# read the answer using stdout."
   ]
  },
  {
   "cell_type": "code",
   "execution_count": null,
   "id": "1695d653",
   "metadata": {},
   "outputs": [],
   "source": [
    "# {\"jsonrpc\": \"2.0\", \"id\": 3, \"method\": \"tools/call\", \"params\": {\"name\": \"get_weather\", \"arguments\": {\"city\": \"berlin\"}}}\n",
    "\n",
    "# result \n",
    "\n",
    "# {\"jsonrpc\":\"2.0\",\"id\":3,\"result\":{\"content\":[{\"type\":\"text\",\"text\":\"20.0\"}],\"structuredContent\":{\"result\":20.0},\"isError\":false}}"
   ]
  },
  {
   "cell_type": "code",
   "execution_count": null,
   "id": "911ed01f",
   "metadata": {},
   "outputs": [],
   "source": [
    "# Available tools: \n",
    "# [Tool(name='get_weather', title=None, description='Retrieves the temperature for a specified city.\\n\\nParameters:\\n    city (str): The name of the city for which to retrieve weather data.\\n\\nReturns:\\n    float: The temperature associated with the city.', inputSchema={'properties': {'city': {'title': 'City', 'type': 'string'}}, 'required': ['city'], 'type': 'object'}, outputSchema={'properties': {'result': {'title': 'Result', 'type': 'number'}}, 'required': ['result'], 'title': '_WrappedResult', 'type': 'object', 'x-fastmcp-wrap-result': True}, annotations=None, meta={'_fastmcp': {'tags': []}}), Tool(name='set_weather', title=None, description=\"Sets the temperature for a specified city.\\n\\nParameters:\\n    city (str): The name of the city for which to set the weather data.\\n    temp (float): The temperature to associate with the city.\\n\\nReturns:\\n    str: A confirmation string 'OK' indicating successful update.\", inputSchema={'properties': {'city': {'title': 'City', 'type': 'string'}, 'temp': {'title': 'Temp', 'type': 'number'}}, 'required': ['city', 'temp'], 'type': 'object'}, outputSchema=None, annotations=None, meta={'_fastmcp': {'tags': []}})]"
   ]
  },
  {
   "cell_type": "code",
   "execution_count": null,
   "id": "7620d4ec",
   "metadata": {},
   "outputs": [],
   "source": [
    "# to be finished\n",
    "import mcp_client_sync\n",
    "\n",
    "our_mcp_client = mcp_client_sync.MCPClient([\"python\", \"weather_server.py\"])\n",
    "\n",
    "our_mcp_client.start_server()\n",
    "our_mcp_client.initialize()\n",
    "our_mcp_client.initialized()"
   ]
  }
 ],
 "metadata": {
  "kernelspec": {
   "display_name": ".venv",
   "language": "python",
   "name": "python3"
  },
  "language_info": {
   "codemirror_mode": {
    "name": "ipython",
    "version": 3
   },
   "file_extension": ".py",
   "mimetype": "text/x-python",
   "name": "python",
   "nbconvert_exporter": "python",
   "pygments_lexer": "ipython3",
   "version": "3.10.17"
  }
 },
 "nbformat": 4,
 "nbformat_minor": 5
}
