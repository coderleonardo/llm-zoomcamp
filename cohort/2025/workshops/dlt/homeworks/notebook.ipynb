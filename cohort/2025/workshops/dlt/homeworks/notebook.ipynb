{
 "cells": [
  {
   "cell_type": "code",
   "execution_count": null,
   "id": "a847bd16",
   "metadata": {},
   "outputs": [],
   "source": [
    "# uv venv dlt-hw --python 3.10\n",
    "\n",
    "# python -m ensurepip --default-pip\n",
    "import requests\n",
    "import dlt\n",
    "from dlt.destinations import qdrant"
   ]
  },
  {
   "cell_type": "code",
   "execution_count": null,
   "id": "d670df7c",
   "metadata": {},
   "outputs": [],
   "source": [
    "dlt.__version__ # '1.14.1'"
   ]
  },
  {
   "cell_type": "code",
   "execution_count": null,
   "id": "83769380",
   "metadata": {},
   "outputs": [],
   "source": [
    "# dlt rosource \n",
    "@dlt.resource(write_disposition=\"replace\", name=\"zoomcamp_data\")\n",
    "def zoomcamp_data():\n",
    "    docs_url = 'https://github.com/alexeygrigorev/llm-rag-workshop/raw/main/notebooks/documents.json'\n",
    "    docs_response = requests.get(docs_url)\n",
    "    documents_raw = docs_response.json()\n",
    "\n",
    "    for course in documents_raw:\n",
    "        course_name = course['course']\n",
    "\n",
    "        for doc in course['documents']:\n",
    "            doc['course'] = course_name\n",
    "            yield doc"
   ]
  },
  {
   "cell_type": "code",
   "execution_count": null,
   "id": "7950455f",
   "metadata": {},
   "outputs": [],
   "source": [
    "# tell dlt (and Qdrant) to create a folder with our data, \n",
    "# and the name for it will be db.qdrant\n",
    "qdrant_destination = qdrant(\n",
    "  qd_path=\"db.qdrant\", \n",
    ")\n",
    "\n",
    "pipeline = dlt.pipeline(\n",
    "    pipeline_name=\"zoomcamp_pipeline\",\n",
    "    destination=qdrant_destination,\n",
    "    dataset_name=\"zoomcamp_tagged_data\"\n",
    "\n",
    ")"
   ]
  },
  {
   "cell_type": "code",
   "execution_count": null,
   "id": "2cc914c9",
   "metadata": {},
   "outputs": [],
   "source": [
    "load_info = pipeline.run(zoomcamp_data())\n",
    "print(pipeline.last_trace)\n",
    "\n",
    "# Normalized data for the following tables:\n",
    "# - zoomcamp_data: 948 row(s)"
   ]
  },
  {
   "cell_type": "code",
   "execution_count": null,
   "id": "b194f08e",
   "metadata": {},
   "outputs": [],
   "source": [
    "# embedding model: fast-bge-small-en"
   ]
  },
  {
   "cell_type": "code",
   "execution_count": null,
   "id": "4f63e0e7",
   "metadata": {},
   "outputs": [],
   "source": []
  },
  {
   "cell_type": "code",
   "execution_count": null,
   "metadata": {},
   "outputs": [],
   "source": []
  }
 ],
 "metadata": {
  "kernelspec": {
   "display_name": "dlt-hw",
   "language": "python",
   "name": "python3"
  },
  "language_info": {
   "codemirror_mode": {
    "name": "ipython",
    "version": 3
   },
   "file_extension": ".py",
   "mimetype": "text/x-python",
   "name": "python",
   "nbconvert_exporter": "python",
   "pygments_lexer": "ipython3",
   "version": "3.10.17"
  }
 },
 "nbformat": 4,
 "nbformat_minor": 5
}
